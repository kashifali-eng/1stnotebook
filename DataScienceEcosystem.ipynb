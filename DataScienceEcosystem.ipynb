{
 "cells": [
  {
   "cell_type": "markdown",
   "id": "42aa6b1a-71b5-40d5-9745-a503523c5ec0",
   "metadata": {},
   "source": [
    "# Data Science Tools and Ecosystems"
   ]
  },
  {
   "cell_type": "markdown",
   "id": "c8a35d9e-4985-4904-82b8-48ce37da857d",
   "metadata": {},
   "source": [
    "## In this notebook, Data Science Tools and Ecosystem are summerized."
   ]
  },
  {
   "cell_type": "markdown",
   "id": "881c1ac5-c477-484c-b0b7-7e7a81021f42",
   "metadata": {},
   "source": [
    "**Objectives:**\n",
    "- Catogories of Data Science Tools\n",
    "- Open source Tools for Data Science\n",
    "- Commercial Tools for Data Science\n",
    "- Cloud based Tools for Data Science"
   ]
  },
  {
   "cell_type": "markdown",
   "id": "1432054e-078d-4c67-9c43-789f97970cb0",
   "metadata": {
    "tags": []
   },
   "source": [
    "## Some of the popular languages that Data Scientists use are:\n",
    "  1. Python\n",
    "  2. R \n",
    "  3. SQL"
   ]
  },
  {
   "cell_type": "markdown",
   "id": "bf1248a9-8128-4a9c-bb5f-594f7690a345",
   "metadata": {},
   "source": [
    "## Some of the commonly used libraries used by Data Scientists include:\n",
    "   1. Pandas\n",
    "   2. NumPY\n",
    "   3. Tensorflow\n"
   ]
  },
  {
   "cell_type": "markdown",
   "id": "382640f4-f94f-4c1f-86ae-cc1b62d18592",
   "metadata": {},
   "source": [
    "|Data Science Tools|\n",
    "|----|\n",
    "|RStudio|\n",
    "|Apache Spark|\n",
    "|TensorFlow|"
   ]
  },
  {
   "cell_type": "markdown",
   "id": "1a0eb4a4-e877-44bc-8a83-9835862f0527",
   "metadata": {},
   "source": [
    "### Below are a few examples of evaluating arithmetic expressions in Python."
   ]
  },
  {
   "cell_type": "markdown",
   "id": "37f6e7a7-6d6d-4512-bd77-1cc7370dbaa4",
   "metadata": {},
   "source": []
  },
  {
   "cell_type": "markdown",
   "id": "2fac84f0-a5b9-405c-a9c3-095ff7fdf07d",
   "metadata": {},
   "source": [
    "## Author\n",
    "   Kashif Ali"
   ]
  },
  {
   "cell_type": "code",
   "execution_count": null,
   "id": "d6aee576-f8a4-49e1-b76a-4fa6dc494213",
   "metadata": {},
   "outputs": [],
   "source": []
  }
 ],
 "metadata": {
  "kernelspec": {
   "display_name": "Python",
   "language": "python",
   "name": "conda-env-python-py"
  },
  "language_info": {
   "codemirror_mode": {
    "name": "ipython",
    "version": 3
   },
   "file_extension": ".py",
   "mimetype": "text/x-python",
   "name": "python",
   "nbconvert_exporter": "python",
   "pygments_lexer": "ipython3",
   "version": "3.7.12"
  }
 },
 "nbformat": 4,
 "nbformat_minor": 5
}
